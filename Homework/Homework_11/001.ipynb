{
 "cells": [
  {
   "cell_type": "markdown",
   "metadata": {},
   "source": [
    "# Домашнее задание к 11 семинару\n",
    " Даны две функции:\n",
    " f(x) = x^3 - 50x и g(x) = -x^4 + 88x^2 - 241\n",
    " Требуется:\n",
    " 1. Найти координаты точек пересечения\n",
    " 2. Построить графики функций в одной системе координат\n",
    " 3. Построить график функции пересечения"
   ]
  },
  {
   "cell_type": "code",
   "execution_count": null,
   "metadata": {},
   "outputs": [],
   "source": []
  }
 ],
 "metadata": {
  "language_info": {
   "name": "python"
  },
  "orig_nbformat": 4
 },
 "nbformat": 4,
 "nbformat_minor": 2
}
