{
 "cells": [
  {
   "attachments": {},
   "cell_type": "markdown",
   "metadata": {},
   "source": [
    "# Домашнее задание к 12 семинару\n",
    "Задача та же только теперь набор данных по-больше (https://disk.yandex.ru/d/7f9QHI5y7wdbYw) и помимо площади, нужно еще вводить и этаж квартиры.\n"
   ]
  },
  {
   "cell_type": "code",
   "execution_count": null,
   "metadata": {},
   "outputs": [],
   "source": []
  }
 ],
 "metadata": {
  "kernelspec": {
   "display_name": "Python 3.10.8 64-bit",
   "language": "python",
   "name": "python3"
  },
  "language_info": {
   "name": "python",
   "version": "3.10.8"
  },
  "orig_nbformat": 4,
  "vscode": {
   "interpreter": {
    "hash": "2ad5f84537c51abe4b58a95232046412d93caf8c79e9f298050d841a9dc39b70"
   }
  }
 },
 "nbformat": 4,
 "nbformat_minor": 2
}
